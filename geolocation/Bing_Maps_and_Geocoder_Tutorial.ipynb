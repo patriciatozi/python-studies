{
  "nbformat": 4,
  "nbformat_minor": 0,
  "metadata": {
    "colab": {
      "provenance": [],
      "authorship_tag": "ABX9TyM152fUeAyVPZncfsh3lq7D",
      "include_colab_link": true
    },
    "kernelspec": {
      "name": "python3",
      "display_name": "Python 3"
    },
    "language_info": {
      "name": "python"
    },
    "accelerator": "GPU",
    "gpuClass": "standard"
  },
  "cells": [
    {
      "cell_type": "markdown",
      "metadata": {
        "id": "view-in-github",
        "colab_type": "text"
      },
      "source": [
        "<a href=\"https://colab.research.google.com/github/patriciatozi/python-studies/blob/main/Bing_Maps_and_Geocoder_Tutorial.ipynb\" target=\"_parent\"><img src=\"https://colab.research.google.com/assets/colab-badge.svg\" alt=\"Open In Colab\"/></a>"
      ]
    },
    {
      "cell_type": "markdown",
      "source": [
        "# **Bing Maps + Geocoder Tutorial**"
      ],
      "metadata": {
        "id": "GXwp62Cui2Ix"
      }
    },
    {
      "cell_type": "markdown",
      "source": [
        "## **Armazenamento da API Key**"
      ],
      "metadata": {
        "id": "4NvCrY8VkXej"
      }
    },
    {
      "cell_type": "code",
      "source": [
        "API_KEY = '<put_the_key_here>'"
      ],
      "metadata": {
        "id": "Ug7genmvj-On"
      },
      "execution_count": null,
      "outputs": []
    },
    {
      "cell_type": "markdown",
      "source": [
        "## **Importação do dataset**"
      ],
      "metadata": {
        "id": "Q9AGzg9Skgbp"
      }
    },
    {
      "cell_type": "code",
      "source": [
        "import pandas as pd\n",
        "\n",
        "df_address = pd.read_csv('address.csv')"
      ],
      "metadata": {
        "id": "ZTXSrBY4eTPN"
      },
      "execution_count": 1,
      "outputs": []
    },
    {
      "cell_type": "code",
      "source": [
        "df_address"
      ],
      "metadata": {
        "colab": {
          "base_uri": "https://localhost:8080/",
          "height": 424
        },
        "id": "dn2g78BteZRE",
        "outputId": "3726d83d-bb96-4dcc-8b59-bbdea1a0fac2"
      },
      "execution_count": 2,
      "outputs": [
        {
          "output_type": "execute_result",
          "data": {
            "text/plain": [
              "            id  number                            street        city state  \\\n",
              "0            0      72  AVENIDA GOVERNADOR EDMUNDO PINTO  Acrelândia    AC   \n",
              "1            1      92  AVENIDA GOVERNADOR EDMUNDO PINTO  Acrelândia    AC   \n",
              "2            2     112  AVENIDA GOVERNADOR EDMUNDO PINTO  Acrelândia    AC   \n",
              "3            3     122  AVENIDA GOVERNADOR EDMUNDO PINTO  Acrelândia    AC   \n",
              "4            4      SN  AVENIDA GOVERNADOR EDMUNDO PINTO  Acrelândia    AC   \n",
              "...        ...     ...                               ...         ...   ...   \n",
              "654570  654570   6 SMS                 POVOADO  ARATICUM   Pariconha    AL   \n",
              "654571  654571  52 SMS                 POVOADO  ARATICUM   Pariconha    AL   \n",
              "654572  654572   5 SMS                 POVOADO  ARATICUM   Pariconha    AL   \n",
              "654573  654573    12 G                 POVOADO  ARATICUM   Pariconha    AL   \n",
              "654574  654574      SN                 POVOADO  ARATICUM   Pariconha    AL   \n",
              "\n",
              "         postcode  \n",
              "0       69945-000  \n",
              "1       69945-000  \n",
              "2       69945-000  \n",
              "3       69945-000  \n",
              "4       69945-000  \n",
              "...           ...  \n",
              "654570  57475-000  \n",
              "654571  57475-000  \n",
              "654572  57475-000  \n",
              "654573  57475-000  \n",
              "654574  57475-000  \n",
              "\n",
              "[654575 rows x 6 columns]"
            ],
            "text/html": [
              "\n",
              "  <div id=\"df-9d359958-af4a-4f3d-8961-4f6b17d748e0\">\n",
              "    <div class=\"colab-df-container\">\n",
              "      <div>\n",
              "<style scoped>\n",
              "    .dataframe tbody tr th:only-of-type {\n",
              "        vertical-align: middle;\n",
              "    }\n",
              "\n",
              "    .dataframe tbody tr th {\n",
              "        vertical-align: top;\n",
              "    }\n",
              "\n",
              "    .dataframe thead th {\n",
              "        text-align: right;\n",
              "    }\n",
              "</style>\n",
              "<table border=\"1\" class=\"dataframe\">\n",
              "  <thead>\n",
              "    <tr style=\"text-align: right;\">\n",
              "      <th></th>\n",
              "      <th>id</th>\n",
              "      <th>number</th>\n",
              "      <th>street</th>\n",
              "      <th>city</th>\n",
              "      <th>state</th>\n",
              "      <th>postcode</th>\n",
              "    </tr>\n",
              "  </thead>\n",
              "  <tbody>\n",
              "    <tr>\n",
              "      <th>0</th>\n",
              "      <td>0</td>\n",
              "      <td>72</td>\n",
              "      <td>AVENIDA GOVERNADOR EDMUNDO PINTO</td>\n",
              "      <td>Acrelândia</td>\n",
              "      <td>AC</td>\n",
              "      <td>69945-000</td>\n",
              "    </tr>\n",
              "    <tr>\n",
              "      <th>1</th>\n",
              "      <td>1</td>\n",
              "      <td>92</td>\n",
              "      <td>AVENIDA GOVERNADOR EDMUNDO PINTO</td>\n",
              "      <td>Acrelândia</td>\n",
              "      <td>AC</td>\n",
              "      <td>69945-000</td>\n",
              "    </tr>\n",
              "    <tr>\n",
              "      <th>2</th>\n",
              "      <td>2</td>\n",
              "      <td>112</td>\n",
              "      <td>AVENIDA GOVERNADOR EDMUNDO PINTO</td>\n",
              "      <td>Acrelândia</td>\n",
              "      <td>AC</td>\n",
              "      <td>69945-000</td>\n",
              "    </tr>\n",
              "    <tr>\n",
              "      <th>3</th>\n",
              "      <td>3</td>\n",
              "      <td>122</td>\n",
              "      <td>AVENIDA GOVERNADOR EDMUNDO PINTO</td>\n",
              "      <td>Acrelândia</td>\n",
              "      <td>AC</td>\n",
              "      <td>69945-000</td>\n",
              "    </tr>\n",
              "    <tr>\n",
              "      <th>4</th>\n",
              "      <td>4</td>\n",
              "      <td>SN</td>\n",
              "      <td>AVENIDA GOVERNADOR EDMUNDO PINTO</td>\n",
              "      <td>Acrelândia</td>\n",
              "      <td>AC</td>\n",
              "      <td>69945-000</td>\n",
              "    </tr>\n",
              "    <tr>\n",
              "      <th>...</th>\n",
              "      <td>...</td>\n",
              "      <td>...</td>\n",
              "      <td>...</td>\n",
              "      <td>...</td>\n",
              "      <td>...</td>\n",
              "      <td>...</td>\n",
              "    </tr>\n",
              "    <tr>\n",
              "      <th>654570</th>\n",
              "      <td>654570</td>\n",
              "      <td>6 SMS</td>\n",
              "      <td>POVOADO  ARATICUM</td>\n",
              "      <td>Pariconha</td>\n",
              "      <td>AL</td>\n",
              "      <td>57475-000</td>\n",
              "    </tr>\n",
              "    <tr>\n",
              "      <th>654571</th>\n",
              "      <td>654571</td>\n",
              "      <td>52 SMS</td>\n",
              "      <td>POVOADO  ARATICUM</td>\n",
              "      <td>Pariconha</td>\n",
              "      <td>AL</td>\n",
              "      <td>57475-000</td>\n",
              "    </tr>\n",
              "    <tr>\n",
              "      <th>654572</th>\n",
              "      <td>654572</td>\n",
              "      <td>5 SMS</td>\n",
              "      <td>POVOADO  ARATICUM</td>\n",
              "      <td>Pariconha</td>\n",
              "      <td>AL</td>\n",
              "      <td>57475-000</td>\n",
              "    </tr>\n",
              "    <tr>\n",
              "      <th>654573</th>\n",
              "      <td>654573</td>\n",
              "      <td>12 G</td>\n",
              "      <td>POVOADO  ARATICUM</td>\n",
              "      <td>Pariconha</td>\n",
              "      <td>AL</td>\n",
              "      <td>57475-000</td>\n",
              "    </tr>\n",
              "    <tr>\n",
              "      <th>654574</th>\n",
              "      <td>654574</td>\n",
              "      <td>SN</td>\n",
              "      <td>POVOADO  ARATICUM</td>\n",
              "      <td>Pariconha</td>\n",
              "      <td>AL</td>\n",
              "      <td>57475-000</td>\n",
              "    </tr>\n",
              "  </tbody>\n",
              "</table>\n",
              "<p>654575 rows × 6 columns</p>\n",
              "</div>\n",
              "      <button class=\"colab-df-convert\" onclick=\"convertToInteractive('df-9d359958-af4a-4f3d-8961-4f6b17d748e0')\"\n",
              "              title=\"Convert this dataframe to an interactive table.\"\n",
              "              style=\"display:none;\">\n",
              "        \n",
              "  <svg xmlns=\"http://www.w3.org/2000/svg\" height=\"24px\"viewBox=\"0 0 24 24\"\n",
              "       width=\"24px\">\n",
              "    <path d=\"M0 0h24v24H0V0z\" fill=\"none\"/>\n",
              "    <path d=\"M18.56 5.44l.94 2.06.94-2.06 2.06-.94-2.06-.94-.94-2.06-.94 2.06-2.06.94zm-11 1L8.5 8.5l.94-2.06 2.06-.94-2.06-.94L8.5 2.5l-.94 2.06-2.06.94zm10 10l.94 2.06.94-2.06 2.06-.94-2.06-.94-.94-2.06-.94 2.06-2.06.94z\"/><path d=\"M17.41 7.96l-1.37-1.37c-.4-.4-.92-.59-1.43-.59-.52 0-1.04.2-1.43.59L10.3 9.45l-7.72 7.72c-.78.78-.78 2.05 0 2.83L4 21.41c.39.39.9.59 1.41.59.51 0 1.02-.2 1.41-.59l7.78-7.78 2.81-2.81c.8-.78.8-2.07 0-2.86zM5.41 20L4 18.59l7.72-7.72 1.47 1.35L5.41 20z\"/>\n",
              "  </svg>\n",
              "      </button>\n",
              "      \n",
              "  <style>\n",
              "    .colab-df-container {\n",
              "      display:flex;\n",
              "      flex-wrap:wrap;\n",
              "      gap: 12px;\n",
              "    }\n",
              "\n",
              "    .colab-df-convert {\n",
              "      background-color: #E8F0FE;\n",
              "      border: none;\n",
              "      border-radius: 50%;\n",
              "      cursor: pointer;\n",
              "      display: none;\n",
              "      fill: #1967D2;\n",
              "      height: 32px;\n",
              "      padding: 0 0 0 0;\n",
              "      width: 32px;\n",
              "    }\n",
              "\n",
              "    .colab-df-convert:hover {\n",
              "      background-color: #E2EBFA;\n",
              "      box-shadow: 0px 1px 2px rgba(60, 64, 67, 0.3), 0px 1px 3px 1px rgba(60, 64, 67, 0.15);\n",
              "      fill: #174EA6;\n",
              "    }\n",
              "\n",
              "    [theme=dark] .colab-df-convert {\n",
              "      background-color: #3B4455;\n",
              "      fill: #D2E3FC;\n",
              "    }\n",
              "\n",
              "    [theme=dark] .colab-df-convert:hover {\n",
              "      background-color: #434B5C;\n",
              "      box-shadow: 0px 1px 3px 1px rgba(0, 0, 0, 0.15);\n",
              "      filter: drop-shadow(0px 1px 2px rgba(0, 0, 0, 0.3));\n",
              "      fill: #FFFFFF;\n",
              "    }\n",
              "  </style>\n",
              "\n",
              "      <script>\n",
              "        const buttonEl =\n",
              "          document.querySelector('#df-9d359958-af4a-4f3d-8961-4f6b17d748e0 button.colab-df-convert');\n",
              "        buttonEl.style.display =\n",
              "          google.colab.kernel.accessAllowed ? 'block' : 'none';\n",
              "\n",
              "        async function convertToInteractive(key) {\n",
              "          const element = document.querySelector('#df-9d359958-af4a-4f3d-8961-4f6b17d748e0');\n",
              "          const dataTable =\n",
              "            await google.colab.kernel.invokeFunction('convertToInteractive',\n",
              "                                                     [key], {});\n",
              "          if (!dataTable) return;\n",
              "\n",
              "          const docLinkHtml = 'Like what you see? Visit the ' +\n",
              "            '<a target=\"_blank\" href=https://colab.research.google.com/notebooks/data_table.ipynb>data table notebook</a>'\n",
              "            + ' to learn more about interactive tables.';\n",
              "          element.innerHTML = '';\n",
              "          dataTable['output_type'] = 'display_data';\n",
              "          await google.colab.output.renderOutput(dataTable, element);\n",
              "          const docLink = document.createElement('div');\n",
              "          docLink.innerHTML = docLinkHtml;\n",
              "          element.appendChild(docLink);\n",
              "        }\n",
              "      </script>\n",
              "    </div>\n",
              "  </div>\n",
              "  "
            ]
          },
          "metadata": {},
          "execution_count": 2
        }
      ]
    },
    {
      "cell_type": "markdown",
      "source": [
        "## **Instalação Geocoder (Python lib)**"
      ],
      "metadata": {
        "id": "yJ6mdNAwklse"
      }
    },
    {
      "cell_type": "code",
      "source": [
        "!pip install geocoder"
      ],
      "metadata": {
        "colab": {
          "base_uri": "https://localhost:8080/"
        },
        "id": "vbr5Y56ra5UA",
        "outputId": "fef6690f-f761-4a6f-efb4-180c0ab7ef4b"
      },
      "execution_count": 3,
      "outputs": [
        {
          "output_type": "stream",
          "name": "stdout",
          "text": [
            "Looking in indexes: https://pypi.org/simple, https://us-python.pkg.dev/colab-wheels/public/simple/\n",
            "Collecting geocoder\n",
            "  Downloading geocoder-1.38.1-py2.py3-none-any.whl (98 kB)\n",
            "\u001b[K     |████████████████████████████████| 98 kB 4.4 MB/s \n",
            "\u001b[?25hCollecting ratelim\n",
            "  Downloading ratelim-0.1.6-py2.py3-none-any.whl (4.0 kB)\n",
            "Requirement already satisfied: six in /usr/local/lib/python3.8/dist-packages (from geocoder) (1.15.0)\n",
            "Requirement already satisfied: future in /usr/local/lib/python3.8/dist-packages (from geocoder) (0.16.0)\n",
            "Requirement already satisfied: requests in /usr/local/lib/python3.8/dist-packages (from geocoder) (2.23.0)\n",
            "Requirement already satisfied: click in /usr/local/lib/python3.8/dist-packages (from geocoder) (7.1.2)\n",
            "Requirement already satisfied: decorator in /usr/local/lib/python3.8/dist-packages (from ratelim->geocoder) (4.4.2)\n",
            "Requirement already satisfied: certifi>=2017.4.17 in /usr/local/lib/python3.8/dist-packages (from requests->geocoder) (2022.9.24)\n",
            "Requirement already satisfied: idna<3,>=2.5 in /usr/local/lib/python3.8/dist-packages (from requests->geocoder) (2.10)\n",
            "Requirement already satisfied: chardet<4,>=3.0.2 in /usr/local/lib/python3.8/dist-packages (from requests->geocoder) (3.0.4)\n",
            "Requirement already satisfied: urllib3!=1.25.0,!=1.25.1,<1.26,>=1.21.1 in /usr/local/lib/python3.8/dist-packages (from requests->geocoder) (1.24.3)\n",
            "Installing collected packages: ratelim, geocoder\n",
            "Successfully installed geocoder-1.38.1 ratelim-0.1.6\n"
          ]
        }
      ]
    },
    {
      "cell_type": "markdown",
      "source": [
        "## **Geolocalização via CEP**"
      ],
      "metadata": {
        "id": "AxHK7sfxkrsm"
      }
    },
    {
      "cell_type": "code",
      "source": [
        "import geocoder\n",
        "\n",
        "df_address['latitude'] = \"\"\n",
        "df_address['longitude'] = \"\"\n",
        "\n",
        "for index, row in df_address.iterrows():\n",
        "  g = geocoder.bing(location = (row['postcode']).replace('-', ''), \n",
        "                    postalCode = (row['postcode']).replace('-', ''), \n",
        "                    locality = row['city'], \n",
        "                    adminDistrict = row['state'], \n",
        "                    countryRegion = 'BRA', \n",
        "                    key=API_KEY)\n",
        "\n",
        "  df_address['latitude'].iloc[index] = g.lat\n",
        "  df_address['longitude'].iloc[index] = g.lng"
      ],
      "metadata": {
        "colab": {
          "base_uri": "https://localhost:8080/"
        },
        "id": "Zy6bp91rbjss",
        "outputId": "9b991ea3-dc98-46be-d560-100078025216"
      },
      "execution_count": null,
      "outputs": [
        {
          "output_type": "stream",
          "name": "stderr",
          "text": [
            "/usr/local/lib/python3.8/dist-packages/pandas/core/indexing.py:1732: SettingWithCopyWarning: \n",
            "A value is trying to be set on a copy of a slice from a DataFrame\n",
            "\n",
            "See the caveats in the documentation: https://pandas.pydata.org/pandas-docs/stable/user_guide/indexing.html#returning-a-view-versus-a-copy\n",
            "  self._setitem_single_block(indexer, value, name)\n"
          ]
        }
      ]
    },
    {
      "cell_type": "markdown",
      "source": [
        "### **Exportação do dataset**"
      ],
      "metadata": {
        "id": "WY0OvRmUkwqK"
      }
    },
    {
      "cell_type": "code",
      "source": [
        "df_address.to_csv('complete_address.csv', index=False)"
      ],
      "metadata": {
        "id": "urIm6eE9kN3J"
      },
      "execution_count": null,
      "outputs": []
    }
  ]
}